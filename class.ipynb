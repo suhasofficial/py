{
 "cells": [
  {
   "cell_type": "code",
   "execution_count": 2,
   "metadata": {},
   "outputs": [
    {
     "name": "stdout",
     "output_type": "stream",
     "text": [
      "ID:  34\n",
      "Name:  fas\n",
      "Salary:  34343\n"
     ]
    }
   ],
   "source": [
    "#create faculty which includes  ID NAME AND SALARY\n",
    "\n",
    "class Faculty:\n",
    "    def getdata(self):\n",
    "        self.id = input(\"Enter ID: \")\n",
    "        self.name = input(\"Enter Name: \")\n",
    "        self.salary = input(\"Enter Salary: \")\n",
    "\n",
    "    def putdata(self):\n",
    "        print(\"ID: \", self.id)\n",
    "        print(\"Name: \", self.name)\n",
    "        print(\"Salary: \", self.salary)\n",
    "\n",
    "# Create an object of the Faculty class\n",
    "a = Faculty()\n",
    "\n",
    "# Call methods on the object\n",
    "a.getdata()\n",
    "a.putdata()\n",
    "\n"
   ]
  },
  {
   "cell_type": "code",
   "execution_count": 3,
   "metadata": {},
   "outputs": [
    {
     "name": "stdout",
     "output_type": "stream",
     "text": [
      "Roll No: 343\n",
      "Name: suhas\n",
      "Marks: [434, 343, 343, 23, 534, 3242]\n",
      "Average Marks: 819.8333333333334\n"
     ]
    }
   ],
   "source": [
    "# write a python program to create student class and include roll no name marks and calculate avg using class\n",
    "\n",
    "class Student:\n",
    "    def __init__(self, roll_no, name, marks):\n",
    "        self.roll_no = roll_no  # Initialize roll number\n",
    "        self.name = name        # Initialize name\n",
    "        self.marks = marks      # Initialize marks (a list of marks)\n",
    "\n",
    "    def average(self):\n",
    "        return sum(self.marks) / len(self.marks)  # Calculate average of marks\n",
    "\n",
    "    def display(self):\n",
    "        print(f\"Roll No: {self.roll_no}\")\n",
    "        print(f\"Name: {self.name}\")\n",
    "        print(f\"Marks: {self.marks}\")\n",
    "        print(f\"Average Marks: {self.average()}\")\n",
    "\n",
    "# Create a student object\n",
    "roll_no = int(input(\"Enter Roll No: \"))\n",
    "name = input(\"Enter Student Name: \")\n",
    "marks = list(map(int, input(\"Enter marks separated by space: \").split()))\n",
    "\n",
    "# Instantiate the Student class\n",
    "student = Student(roll_no, name, marks)\n",
    "\n",
    "# Display the student information\n",
    "student.display()"
   ]
  }
 ],
 "metadata": {
  "kernelspec": {
   "display_name": "Python 3",
   "language": "python",
   "name": "python3"
  },
  "language_info": {
   "codemirror_mode": {
    "name": "ipython",
    "version": 3
   },
   "file_extension": ".py",
   "mimetype": "text/x-python",
   "name": "python",
   "nbconvert_exporter": "python",
   "pygments_lexer": "ipython3",
   "version": "3.12.7"
  }
 },
 "nbformat": 4,
 "nbformat_minor": 2
}
