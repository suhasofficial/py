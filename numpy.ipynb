{
 "cells": [
  {
   "cell_type": "code",
   "execution_count": 2,
   "metadata": {},
   "outputs": [
    {
     "name": "stdout",
     "output_type": "stream",
     "text": [
      "[[ 2  4  6]\n",
      " [ 8 10 12]]\n",
      "2\n",
      "(2, 3)\n",
      "6\n",
      "[[ 2  8]\n",
      " [ 4 10]\n",
      " [ 6 12]]\n"
     ]
    }
   ],
   "source": [
    "#1. array type , 2 access of an array element , 3shape of an array ,4 type of element in array \n",
    "\n",
    "import numpy as np\n",
    "a = np.array([[1,2,3],[4,5,6]])\n",
    "b = np.array([[1,2,3],[4,5,6]])\n",
    "x = a+b\n",
    "\n",
    "print(x)\n",
    "print(x.ndim)\n",
    "print(x.shape)\n",
    "print(x.size)\n",
    "print(x.T)\n"
   ]
  },
  {
   "cell_type": "code",
   "execution_count": 3,
   "metadata": {},
   "outputs": [
    {
     "name": "stdout",
     "output_type": "stream",
     "text": [
      "[[[ 0  1  2]\n",
      "  [ 3  4  5]]\n",
      "\n",
      " [[ 6  7  8]\n",
      "  [ 9 10 11]]]\n",
      "[[ 3  8]\n",
      " [13 18]\n",
      " [23 28]]\n",
      "[ 3  8 13 18 23 28]\n",
      "[[0. 0. 0. 0.]\n",
      " [0. 0. 0. 0.]\n",
      " [0. 0. 0. 0.]]\n"
     ]
    }
   ],
   "source": [
    "# a) reshape (2,2,3) b) sequence of integers frin 3 to 30 with step 5 and reshape  3X2  c) flatten array d) 3*4 with zeros array in numpy \n",
    "\n",
    "import numpy as np\n",
    "\n",
    "# a) Reshape (2, 2, 3)\n",
    "array_1 = np.arange(12)  # Create an array with 12 elements (0 to 11)\n",
    "reshaped_array_1 = array_1.reshape(2, 2, 3)\n",
    "print(reshaped_array_1)\n",
    "\n",
    "# b) Sequence from 3 to 30 with step 5 and reshape to 3x2\n",
    "array_2 = np.arange(3, 31, 5)  # Create a sequence from 3 to 30 with step 5\n",
    "reshaped_array_2 = array_2.reshape(3, 2)\n",
    "print(reshaped_array_2)\n",
    "\n",
    "# c) Flatten the reshaped array (from part b)\n",
    "flattened_array = reshaped_array_2.flatten()\n",
    "print( flattened_array)\n",
    "\n",
    "# d) 3x4 array of zeros\n",
    "zeros_array = np.zeros((3, 4))\n",
    "print( zeros_array)"
   ]
  },
  {
   "cell_type": "code",
   "execution_count": null,
   "metadata": {},
   "outputs": [],
   "source": [
    "# matrix multiplication in numpy\n",
    "\n",
    "import numpy as np\n",
    "\n",
    "# Define two matrices\n",
    "A = np.array([[1, 2],\n",
    "              [3, 4]])\n",
    "\n",
    "B = np.array([[5, 6],\n",
    "              [7, 8]])\n",
    "\n",
    "# Matrix multiplication using np.dot()\n",
    "result = np.dot(A, B)\n",
    "\n",
    "print(\"Matrix A:\")\n",
    "print(A)\n",
    "\n",
    "print(\"\\nMatrix B:\")\n",
    "print(B)\n",
    "\n",
    "print(\"\\nResult of np.dot(A, B):\")\n",
    "print(result)\n",
    "\n"
   ]
  },
  {
   "cell_type": "code",
   "execution_count": 18,
   "metadata": {},
   "outputs": [
    {
     "name": "stdout",
     "output_type": "stream",
     "text": [
      "\n",
      "Matrix 1:\n",
      "[[1 2 3]\n",
      " [4 5 6]]\n",
      "\n",
      "Matrix 2:\n",
      "[[ 7  8]\n",
      " [ 9 10]\n",
      " [11 12]]\n",
      "\n",
      "Matrix multiplication result:\n",
      "[[ 58  64]\n",
      " [139 154]]\n",
      "\n",
      "Transpose of the result:\n",
      "[[ 58 139]\n",
      " [ 64 154]]\n"
     ]
    }
   ],
   "source": [
    "import numpy as np\n",
    "\n",
    "R = int(input(\"Enter the number of rows for Matrix 1: \"))\n",
    "C = int(input(\"Enter the number of columns for Matrix 1: \"))\n",
    "matrix1 = []\n",
    "\n",
    "for i in range(R):\n",
    "    row = list(map(int, input(f\"Enter row {i+1} (space-separated): \").split()))\n",
    "    matrix1.append(row)\n",
    "\n",
    "m1 = np.array(matrix1)\n",
    "print(\"\\nMatrix 1:\")\n",
    "print(m1)\n",
    "\n",
    "R1 = int(input(\"Enter the number of rows for Matrix 2: \"))\n",
    "C1 = int(input(\"Enter the number of columns for Matrix 2: \"))\n",
    "matrix2 = []\n",
    "\n",
    "for i in range(R1):\n",
    "    row = list(map(int, input(f\"Enter row {i+1} (space-separated): \").split()))\n",
    "    matrix2.append(row)\n",
    "\n",
    "m2 = np.array(matrix2)\n",
    "print(\"\\nMatrix 2:\")\n",
    "print(m2)\n",
    "\n",
    "if C == R1:\n",
    "    result = m1.dot(m2)\n",
    "    print(\"\\nMatrix multiplication result:\")\n",
    "    print(result)\n",
    "\n",
    "    print(\"\\nTranspose of the result:\")\n",
    "    print(result.T)\n",
    "else:\n",
    "    print(\"\\nMatrix multiplication is not possible. The number of columns in Matrix 1 must equal the number of rows in Matrix 2.\")"
   ]
  },
  {
   "cell_type": "code",
   "execution_count": 20,
   "metadata": {},
   "outputs": [
    {
     "name": "stdout",
     "output_type": "stream",
     "text": [
      "\n",
      "Horizontal Stack (hstack):\n",
      "[[1. 1. 1. 0. 0. 0.]\n",
      " [1. 1. 1. 0. 0. 0.]]\n",
      "\n",
      "Vertical Stack (vstack):\n",
      "[[1. 1. 1.]\n",
      " [1. 1. 1.]\n",
      " [0. 0. 0.]\n",
      " [0. 0. 0.]]\n",
      "\n",
      "Depth Stack (dstack):\n",
      "[[[1. 0.]\n",
      "  [1. 0.]\n",
      "  [1. 0.]]\n",
      "\n",
      " [[1. 0.]\n",
      "  [1. 0.]\n",
      "  [1. 0.]]]\n"
     ]
    }
   ],
   "source": [
    "import numpy as np\n",
    "\n",
    "# Creating arrays of ones and zeros\n",
    "ones = np.ones((2, 3))  # 2x3 array of ones\n",
    "zeros = np.zeros((2, 3))  # 2x3 array of zeros\n",
    "\n",
    "\n",
    "# Horizontal stacking (hstack)\n",
    "hstack_result = np.hstack((ones, zeros))\n",
    "print(\"\\nHorizontal Stack (hstack):\")\n",
    "print(hstack_result)\n",
    "\n",
    "# Vertical stacking (vstack)\n",
    "vstack_result = np.vstack((ones, zeros))\n",
    "print(\"\\nVertical Stack (vstack):\")\n",
    "print(vstack_result)\n",
    "\n",
    "# Depth stacking (dstack)\n",
    "dstack_result = np.dstack((ones, zeros))\n",
    "print(\"\\nDepth Stack (dstack):\")\n",
    "print(dstack_result)"
   ]
  },
  {
   "cell_type": "code",
   "execution_count": 24,
   "metadata": {},
   "outputs": [
    {
     "name": "stdout",
     "output_type": "stream",
     "text": [
      "[array([[ 0,  1],\n",
      "       [ 4,  5],\n",
      "       [ 8,  9],\n",
      "       [12, 13]]), array([[ 2,  3],\n",
      "       [ 6,  7],\n",
      "       [10, 11],\n",
      "       [14, 15]])]\n",
      "[array([[0, 1, 2, 3],\n",
      "       [4, 5, 6, 7]]), array([[ 8,  9, 10, 11],\n",
      "       [12, 13, 14, 15]])]\n",
      "[array([[0, 1, 2, 3]]), array([[4, 5, 6, 7]]), array([[ 8,  9, 10, 11]]), array([[12, 13, 14, 15]])]\n"
     ]
    }
   ],
   "source": [
    "import numpy as np\n",
    "\n",
    "arr = np.arange(16).reshape(4,4)\n",
    "\n",
    "result1 = np.hsplit(arr,2)\n",
    "result2 = np.vsplit(arr,2)\n",
    "result3 = np.array_split(arr,4)\n",
    "\n",
    "print(result1)\n",
    "print(result2)\n",
    "print(result3)"
   ]
  }
 ],
 "metadata": {
  "kernelspec": {
   "display_name": "Python 3",
   "language": "python",
   "name": "python3"
  },
  "language_info": {
   "codemirror_mode": {
    "name": "ipython",
    "version": 3
   },
   "file_extension": ".py",
   "mimetype": "text/x-python",
   "name": "python",
   "nbconvert_exporter": "python",
   "pygments_lexer": "ipython3",
   "version": "3.12.7"
  }
 },
 "nbformat": 4,
 "nbformat_minor": 2
}
